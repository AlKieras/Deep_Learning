{
 "cells": [
  {
   "cell_type": "code",
   "execution_count": 1,
   "id": "4c1e2fa1-96f0-46fb-885e-3d966b478b2c",
   "metadata": {},
   "outputs": [],
   "source": [
    "# Importing the modules\n",
    "from matplotlib import pyplot as plt\n",
    "import cv2 as cv\n",
    "import numpy as np\n",
    "from PIL import Image, ImageEnhance\n",
    "from pathlib import Path\n",
    "import os"
   ]
  },
  {
   "cell_type": "code",
   "execution_count": 2,
   "id": "a79b1caf-4602-4954-921d-040019938faa",
   "metadata": {},
   "outputs": [],
   "source": [
    "# Acess the folder containing each folder of facial emotion images\n",
    "# currently the folder is at the same level as this file,\n",
    "# will need to update path if that changes\n",
    "path = \"./archive\"\n",
    "data_path = os.listdir(path)"
   ]
  },
  {
   "cell_type": "code",
   "execution_count": null,
   "id": "3280d97e-c6b0-4df3-b111-46d57f09bad3",
   "metadata": {},
   "outputs": [],
   "source": [
    "# Note: at the same leve las this file and the archive folder, you will need to \n",
    "# create a folder 'improved_archive' with sub folders 'test' and 'train'"
   ]
  },
  {
   "cell_type": "code",
   "execution_count": 5,
   "id": "1826870a-063c-4a7d-ada8-d14ef65fccaa",
   "metadata": {},
   "outputs": [],
   "source": [
    "# create function for altering images\n",
    "# image param for image\n",
    "# path param for where to save image\n",
    "def image_processing(image, path_output, picture):\n",
    "    im = Image.open(image)\n",
    "    enhancer = ImageEnhance.Contrast(im)\n",
    "    \n",
    "    os.chdir(path_output)\n",
    "    factor = 2.5 #increase contrast\n",
    "    im_output = enhancer.enhance(factor)\n",
    "    im_output.save(picture)\n",
    "    \n",
    "    # NOTE: when reading the saved images with openCV,\n",
    "    # you will need to use\n",
    "    \n",
    "    # ie: im = cv.imread('geeks.jpg', cv.IMREAD_GRAYSCALE)\n",
    "    # to ready image with proper ammount of channels\n",
    "    os.chdir('../../..')\n"
   ]
  },
  {
   "cell_type": "code",
   "execution_count": 7,
   "id": "c7cbbd5f-13c9-4afa-abc0-3c2959e2d015",
   "metadata": {},
   "outputs": [],
   "source": [
    "# iterate through each folder within the directory\n",
    "for folder in data_path:\n",
    "    # iterate over both test and train folders\n",
    "    # generate path to sub_folder\n",
    "    if folder != '.DS_Store':\n",
    "        sub_path = os.listdir('./archive/'+folder)\n",
    "        for emotion in sub_path:\n",
    "            if emotion != '.DS_Store':\n",
    "                # access images in emotion\n",
    "                images = os.listdir('./archive'+'/'+folder+'/'+emotion)\n",
    "                # iterate through images in emotion folders\n",
    "                for picture in images:\n",
    "                    # make new emotion folder to save updated images\n",
    "                    path_to_save = './improved_archive'+'/'+folder+'/'+emotion+'/'\n",
    "                    path_input = './archive'+'/'+folder+'/'+emotion+'/'+picture\n",
    "                    # create the emotion folder if not present already\n",
    "                    if not os.path.exists(path_to_save):\n",
    "                        os.mkdir(path_to_save)\n",
    "                        \n",
    "                    # iterate through all images and perform image augementation\n",
    "                    if picture != '.ipynb_checkpoints':\n",
    "                        image_processing(path_input, path_to_save, picture)\n",
    "                \n",
    "    "
   ]
  },
  {
   "cell_type": "code",
   "execution_count": null,
   "id": "2277bd8c-71af-4b7a-a429-73715a534fd5",
   "metadata": {},
   "outputs": [],
   "source": []
  }
 ],
 "metadata": {
  "kernelspec": {
   "display_name": "Python 3 (ipykernel)",
   "language": "python",
   "name": "python3"
  },
  "language_info": {
   "codemirror_mode": {
    "name": "ipython",
    "version": 3
   },
   "file_extension": ".py",
   "mimetype": "text/x-python",
   "name": "python",
   "nbconvert_exporter": "python",
   "pygments_lexer": "ipython3",
   "version": "3.9.13"
  }
 },
 "nbformat": 4,
 "nbformat_minor": 5
}
